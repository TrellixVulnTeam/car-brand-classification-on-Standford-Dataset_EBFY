{
  "nbformat": 4,
  "nbformat_minor": 0,
  "metadata": {
    "colab": {
      "name": "Untitled38.ipynb",
      "provenance": [],
      "collapsed_sections": []
    },
    "kernelspec": {
      "name": "python3",
      "display_name": "Python 3"
    },
    "language_info": {
      "name": "python"
    },
    "accelerator": "GPU"
  },
  "cells": [
    {
      "cell_type": "code",
      "metadata": {
        "colab": {
          "base_uri": "https://localhost:8080/"
        },
        "id": "tAu_6LIZLZnM",
        "outputId": "e771504e-7176-4ad4-bcc9-437d84ffd152"
      },
      "source": [
        "cd /content/drive/MyDrive/Car-Recognition"
      ],
      "execution_count": null,
      "outputs": [
        {
          "output_type": "stream",
          "text": [
            "/content/drive/MyDrive/Car-Recognition\n"
          ],
          "name": "stdout"
        }
      ]
    },
    {
      "cell_type": "code",
      "metadata": {
        "colab": {
          "base_uri": "https://localhost:8080/"
        },
        "id": "JScWVPU6hTNp",
        "outputId": "90c5d57f-f8b1-43a8-c433-e100539ae749"
      },
      "source": [
        "! pip install console-progressbar"
      ],
      "execution_count": null,
      "outputs": [
        {
          "output_type": "stream",
          "text": [
            "Collecting console-progressbar\n",
            "  Downloading https://files.pythonhosted.org/packages/d5/8d/810e5c5dbdefc92cc1819d0b6ffac2c9c149acece9b3e55e4d9d05d0bb2a/console_progressbar-1.1.2.tar.gz\n",
            "Building wheels for collected packages: console-progressbar\n",
            "  Building wheel for console-progressbar (setup.py) ... \u001b[?25l\u001b[?25hdone\n",
            "  Created wheel for console-progressbar: filename=console_progressbar-1.1.2-cp37-none-any.whl size=4142 sha256=1c31c24336c4490687aaa1b01c6c5833667e364a015c515a8f9338dd07f57b38\n",
            "  Stored in directory: /root/.cache/pip/wheels/35/48/4c/dfcbbd70b7a1690c7113e01fa2201a809203078d96de82b900\n",
            "Successfully built console-progressbar\n",
            "Installing collected packages: console-progressbar\n",
            "Successfully installed console-progressbar-1.1.2\n"
          ],
          "name": "stdout"
        }
      ]
    },
    {
      "cell_type": "code",
      "metadata": {
        "colab": {
          "base_uri": "https://localhost:8080/"
        },
        "id": "1YbuRLg4KRGA",
        "outputId": "0336a45c-7ffc-430e-f512-ae6d294e678f"
      },
      "source": [
        "! wget http://ai.stanford.edu/~jkrause/car196/cars_train.tgz"
      ],
      "execution_count": null,
      "outputs": [
        {
          "output_type": "stream",
          "text": [
            "--2021-05-06 16:40:02--  http://ai.stanford.edu/~jkrause/car196/cars_train.tgz\n",
            "Resolving ai.stanford.edu (ai.stanford.edu)... 171.64.68.10\n",
            "Connecting to ai.stanford.edu (ai.stanford.edu)|171.64.68.10|:80... connected.\n",
            "HTTP request sent, awaiting response... 200 OK\n",
            "Length: 979269282 (934M) [application/x-gzip]\n",
            "Saving to: ‘cars_train.tgz’\n",
            "\n",
            "cars_train.tgz      100%[===================>] 933.90M  9.61MB/s    in 53s     \n",
            "\n",
            "2021-05-06 16:40:55 (17.6 MB/s) - ‘cars_train.tgz’ saved [979269282/979269282]\n",
            "\n"
          ],
          "name": "stdout"
        }
      ]
    },
    {
      "cell_type": "code",
      "metadata": {
        "colab": {
          "base_uri": "https://localhost:8080/"
        },
        "id": "M98NEXECKYeQ",
        "outputId": "ce6a5c41-4041-4504-9a5a-28db5d94f507"
      },
      "source": [
        "! wget http://ai.stanford.edu/~jkrause/car196/cars_test.tgz"
      ],
      "execution_count": null,
      "outputs": [
        {
          "output_type": "stream",
          "text": [
            "--2021-05-06 16:40:55--  http://ai.stanford.edu/~jkrause/car196/cars_test.tgz\n",
            "Resolving ai.stanford.edu (ai.stanford.edu)... 171.64.68.10\n",
            "Connecting to ai.stanford.edu (ai.stanford.edu)|171.64.68.10|:80... connected.\n",
            "HTTP request sent, awaiting response... 200 OK\n",
            "Length: 977350468 (932M) [application/x-gzip]\n",
            "Saving to: ‘cars_test.tgz’\n",
            "\n",
            "cars_test.tgz       100%[===================>] 932.07M  10.5MB/s    in 89s     \n",
            "\n",
            "2021-05-06 16:42:24 (10.5 MB/s) - ‘cars_test.tgz’ saved [977350468/977350468]\n",
            "\n"
          ],
          "name": "stdout"
        }
      ]
    },
    {
      "cell_type": "code",
      "metadata": {
        "colab": {
          "base_uri": "https://localhost:8080/"
        },
        "id": "JWhoDStRK9Kf",
        "outputId": "62446c77-ff8a-465c-f464-7b1b26baeffc"
      },
      "source": [
        "! wget https://ai.stanford.edu/~jkrause/cars/car_devkit.tgz"
      ],
      "execution_count": null,
      "outputs": [
        {
          "output_type": "stream",
          "text": [
            "--2021-05-06 16:42:24--  https://ai.stanford.edu/~jkrause/cars/car_devkit.tgz\n",
            "Resolving ai.stanford.edu (ai.stanford.edu)... 171.64.68.10\n",
            "Connecting to ai.stanford.edu (ai.stanford.edu)|171.64.68.10|:443... connected.\n",
            "HTTP request sent, awaiting response... 200 OK\n",
            "Length: 330960 (323K) [application/x-gzip]\n",
            "Saving to: ‘car_devkit.tgz’\n",
            "\n",
            "car_devkit.tgz      100%[===================>] 323.20K  1.53MB/s    in 0.2s    \n",
            "\n",
            "2021-05-06 16:42:25 (1.53 MB/s) - ‘car_devkit.tgz’ saved [330960/330960]\n",
            "\n"
          ],
          "name": "stdout"
        }
      ]
    },
    {
      "cell_type": "code",
      "metadata": {
        "colab": {
          "base_uri": "https://localhost:8080/"
        },
        "id": "rjJWbfyDLCD_",
        "outputId": "ce3e40ea-0952-4b7b-90c6-c3c6b11f128a"
      },
      "source": [
        "! wget https://drive.google.com/file/d/0Byy2AcGyEVxfeXExMzNNOHpEODg/view?usp=sharing"
      ],
      "execution_count": null,
      "outputs": [
        {
          "output_type": "stream",
          "text": [
            "--2021-05-06 16:42:25--  https://drive.google.com/file/d/0Byy2AcGyEVxfeXExMzNNOHpEODg/view?usp=sharing\n",
            "Resolving drive.google.com (drive.google.com)... 173.194.202.113, 173.194.202.102, 173.194.202.100, ...\n",
            "Connecting to drive.google.com (drive.google.com)|173.194.202.113|:443... connected.\n",
            "HTTP request sent, awaiting response... 200 OK\n",
            "Length: unspecified [text/html]\n",
            "Saving to: ‘view?usp=sharing’\n",
            "\n",
            "view?usp=sharing        [ <=>                ]  63.89K  --.-KB/s    in 0.03s   \n",
            "\n",
            "2021-05-06 16:42:25 (2.34 MB/s) - ‘view?usp=sharing’ saved [65426]\n",
            "\n"
          ],
          "name": "stdout"
        }
      ]
    },
    {
      "cell_type": "code",
      "metadata": {
        "colab": {
          "base_uri": "https://localhost:8080/"
        },
        "id": "CQs-HZy9LRQq",
        "outputId": "2eb6a05a-95a2-4679-9ed5-8ce5368ce084"
      },
      "source": [
        "! python /content/Car-Recognition/pre_process.py"
      ],
      "execution_count": null,
      "outputs": [
        {
          "output_type": "stream",
          "text": [
            "Extracting cars_train.tgz...\n",
            "Extracting cars_test.tgz...\n",
            "Extracting car_devkit.tgz...\n",
            "class_names.shape: (196, 1)\n",
            "Sample class_name: [Aston Martin V8 Vantage Coupe 2012]\n",
            "Processing train data...\n",
            "[  1   2   3   4   5   6   7   8   9  10  11  12  13  14  15  16  17  18\n",
            "  19  20  21  22  23  24  25  26  27  28  29  30  31  32  33  34  35  36\n",
            "  37  38  39  40  41  42  43  44  45  46  47  48  49  50  51  52  53  54\n",
            "  55  56  57  58  59  60  61  62  63  64  65  66  67  68  69  70  71  72\n",
            "  73  74  75  76  77  78  79  80  81  82  83  84  85  86  87  88  89  90\n",
            "  91  92  93  94  95  96  97  98  99 100 101 102 103 104 105 106 107 108\n",
            " 109 110 111 112 113 114 115 116 117 118 119 120 121 122 123 124 125 126\n",
            " 127 128 129 130 131 132 133 134 135 136 137 138 139 140 141 142 143 144\n",
            " 145 146 147 148 149 150 151 152 153 154 155 156 157 158 159 160 161 162\n",
            " 163 164 165 166 167 168 169 170 171 172 173 174 175 176 177 178 179 180\n",
            " 181 182 183 184 185 186 187 188 189 190 191 192 193 194 195 196]\n",
            "The number of different cars is 196\n",
            "100% 8144/8144 [01:06<00:00, 122.02it/s]\n",
            "Processing test data...\n",
            "100% 8041/8041 [01:05<00:00, 122.20it/s]\n"
          ],
          "name": "stdout"
        }
      ]
    },
    {
      "cell_type": "code",
      "metadata": {
        "colab": {
          "base_uri": "https://localhost:8080/"
        },
        "id": "0IPgoSddm7FY",
        "outputId": "59ebae81-857f-4b0e-c5c6-5224c7b5fd17"
      },
      "source": [
        "! python /content/drive/MyDrive/Car-Recognition/train.py"
      ],
      "execution_count": null,
      "outputs": [
        {
          "output_type": "stream",
          "text": [
            "2021-05-07 07:13:38.667561: I tensorflow/stream_executor/platform/default/dso_loader.cc:49] Successfully opened dynamic library libcudart.so.11.0\n",
            "2021-05-07 07:13:40.643602: I tensorflow/compiler/jit/xla_cpu_device.cc:41] Not creating XLA devices, tf_xla_enable_xla_devices not set\n",
            "2021-05-07 07:13:40.644406: I tensorflow/stream_executor/platform/default/dso_loader.cc:49] Successfully opened dynamic library libcuda.so.1\n",
            "2021-05-07 07:13:40.675287: I tensorflow/stream_executor/cuda/cuda_gpu_executor.cc:941] successful NUMA node read from SysFS had negative value (-1), but there must be at least one NUMA node, so returning NUMA node zero\n",
            "2021-05-07 07:13:40.675871: I tensorflow/core/common_runtime/gpu/gpu_device.cc:1720] Found device 0 with properties: \n",
            "pciBusID: 0000:00:04.0 name: Tesla T4 computeCapability: 7.5\n",
            "coreClock: 1.59GHz coreCount: 40 deviceMemorySize: 14.75GiB deviceMemoryBandwidth: 298.08GiB/s\n",
            "2021-05-07 07:13:40.675909: I tensorflow/stream_executor/platform/default/dso_loader.cc:49] Successfully opened dynamic library libcudart.so.11.0\n",
            "2021-05-07 07:13:40.678377: I tensorflow/stream_executor/platform/default/dso_loader.cc:49] Successfully opened dynamic library libcublas.so.11\n",
            "2021-05-07 07:13:40.678472: I tensorflow/stream_executor/platform/default/dso_loader.cc:49] Successfully opened dynamic library libcublasLt.so.11\n",
            "2021-05-07 07:13:40.680219: I tensorflow/stream_executor/platform/default/dso_loader.cc:49] Successfully opened dynamic library libcufft.so.10\n",
            "2021-05-07 07:13:40.680572: I tensorflow/stream_executor/platform/default/dso_loader.cc:49] Successfully opened dynamic library libcurand.so.10\n",
            "2021-05-07 07:13:40.682188: I tensorflow/stream_executor/platform/default/dso_loader.cc:49] Successfully opened dynamic library libcusolver.so.10\n",
            "2021-05-07 07:13:40.682903: I tensorflow/stream_executor/platform/default/dso_loader.cc:49] Successfully opened dynamic library libcusparse.so.11\n",
            "2021-05-07 07:13:40.683088: I tensorflow/stream_executor/platform/default/dso_loader.cc:49] Successfully opened dynamic library libcudnn.so.8\n",
            "2021-05-07 07:13:40.683199: I tensorflow/stream_executor/cuda/cuda_gpu_executor.cc:941] successful NUMA node read from SysFS had negative value (-1), but there must be at least one NUMA node, so returning NUMA node zero\n",
            "2021-05-07 07:13:40.683802: I tensorflow/stream_executor/cuda/cuda_gpu_executor.cc:941] successful NUMA node read from SysFS had negative value (-1), but there must be at least one NUMA node, so returning NUMA node zero\n",
            "2021-05-07 07:13:40.684320: I tensorflow/core/common_runtime/gpu/gpu_device.cc:1862] Adding visible gpu devices: 0\n",
            "2021-05-07 07:13:40.684709: I tensorflow/compiler/jit/xla_gpu_device.cc:99] Not creating XLA devices, tf_xla_enable_xla_devices not set\n",
            "2021-05-07 07:13:40.684819: I tensorflow/stream_executor/cuda/cuda_gpu_executor.cc:941] successful NUMA node read from SysFS had negative value (-1), but there must be at least one NUMA node, so returning NUMA node zero\n",
            "2021-05-07 07:13:40.685355: I tensorflow/core/common_runtime/gpu/gpu_device.cc:1720] Found device 0 with properties: \n",
            "pciBusID: 0000:00:04.0 name: Tesla T4 computeCapability: 7.5\n",
            "coreClock: 1.59GHz coreCount: 40 deviceMemorySize: 14.75GiB deviceMemoryBandwidth: 298.08GiB/s\n",
            "2021-05-07 07:13:40.685382: I tensorflow/stream_executor/platform/default/dso_loader.cc:49] Successfully opened dynamic library libcudart.so.11.0\n",
            "2021-05-07 07:13:40.685412: I tensorflow/stream_executor/platform/default/dso_loader.cc:49] Successfully opened dynamic library libcublas.so.11\n",
            "2021-05-07 07:13:40.685448: I tensorflow/stream_executor/platform/default/dso_loader.cc:49] Successfully opened dynamic library libcublasLt.so.11\n",
            "2021-05-07 07:13:40.685473: I tensorflow/stream_executor/platform/default/dso_loader.cc:49] Successfully opened dynamic library libcufft.so.10\n",
            "2021-05-07 07:13:40.685494: I tensorflow/stream_executor/platform/default/dso_loader.cc:49] Successfully opened dynamic library libcurand.so.10\n",
            "2021-05-07 07:13:40.685513: I tensorflow/stream_executor/platform/default/dso_loader.cc:49] Successfully opened dynamic library libcusolver.so.10\n",
            "2021-05-07 07:13:40.685534: I tensorflow/stream_executor/platform/default/dso_loader.cc:49] Successfully opened dynamic library libcusparse.so.11\n",
            "2021-05-07 07:13:40.685557: I tensorflow/stream_executor/platform/default/dso_loader.cc:49] Successfully opened dynamic library libcudnn.so.8\n",
            "2021-05-07 07:13:40.685622: I tensorflow/stream_executor/cuda/cuda_gpu_executor.cc:941] successful NUMA node read from SysFS had negative value (-1), but there must be at least one NUMA node, so returning NUMA node zero\n",
            "2021-05-07 07:13:40.686179: I tensorflow/stream_executor/cuda/cuda_gpu_executor.cc:941] successful NUMA node read from SysFS had negative value (-1), but there must be at least one NUMA node, so returning NUMA node zero\n",
            "2021-05-07 07:13:40.686686: I tensorflow/core/common_runtime/gpu/gpu_device.cc:1862] Adding visible gpu devices: 0\n",
            "2021-05-07 07:13:40.686729: I tensorflow/stream_executor/platform/default/dso_loader.cc:49] Successfully opened dynamic library libcudart.so.11.0\n",
            "2021-05-07 07:13:41.212245: I tensorflow/core/common_runtime/gpu/gpu_device.cc:1261] Device interconnect StreamExecutor with strength 1 edge matrix:\n",
            "2021-05-07 07:13:41.212302: I tensorflow/core/common_runtime/gpu/gpu_device.cc:1267]      0 \n",
            "2021-05-07 07:13:41.212322: I tensorflow/core/common_runtime/gpu/gpu_device.cc:1280] 0:   N \n",
            "2021-05-07 07:13:41.212531: I tensorflow/stream_executor/cuda/cuda_gpu_executor.cc:941] successful NUMA node read from SysFS had negative value (-1), but there must be at least one NUMA node, so returning NUMA node zero\n",
            "2021-05-07 07:13:41.213144: I tensorflow/stream_executor/cuda/cuda_gpu_executor.cc:941] successful NUMA node read from SysFS had negative value (-1), but there must be at least one NUMA node, so returning NUMA node zero\n",
            "2021-05-07 07:13:41.213719: I tensorflow/stream_executor/cuda/cuda_gpu_executor.cc:941] successful NUMA node read from SysFS had negative value (-1), but there must be at least one NUMA node, so returning NUMA node zero\n",
            "2021-05-07 07:13:41.214227: W tensorflow/core/common_runtime/gpu/gpu_bfc_allocator.cc:39] Overriding allow_growth setting because the TF_FORCE_GPU_ALLOW_GROWTH environment variable is set. Original config value was 0.\n",
            "2021-05-07 07:13:41.214278: I tensorflow/core/common_runtime/gpu/gpu_device.cc:1406] Created TensorFlow device (/job:localhost/replica:0/task:0/device:GPU:0 with 13994 MB memory) -> physical GPU (device: 0, name: Tesla T4, pci bus id: 0000:00:04.0, compute capability: 7.5)\n",
            "2021-05-07 07:13:47.817379: I tensorflow/core/profiler/lib/profiler_session.cc:136] Profiler session initializing.\n",
            "2021-05-07 07:13:47.817485: I tensorflow/core/profiler/lib/profiler_session.cc:155] Profiler session started.\n",
            "2021-05-07 07:13:47.817536: I tensorflow/core/profiler/internal/gpu/cupti_tracer.cc:1365] Profiler found 1 GPUs\n",
            "2021-05-07 07:13:47.874853: I tensorflow/stream_executor/platform/default/dso_loader.cc:49] Successfully opened dynamic library libcupti.so.11.0\n",
            "2021-05-07 07:13:48.012851: I tensorflow/core/profiler/lib/profiler_session.cc:172] Profiler session tear down.\n",
            "2021-05-07 07:13:48.013031: I tensorflow/core/profiler/internal/gpu/cupti_tracer.cc:1487] CUPTI activity buffer flushed\n",
            "Found 8046 images belonging to 196 classes.\n",
            "Found 1938 images belonging to 196 classes.\n",
            "/usr/local/lib/python3.7/dist-packages/tensorflow/python/keras/engine/training.py:1844: UserWarning: `Model.fit_generator` is deprecated and will be removed in a future version. Please use `Model.fit`, which supports generators.\n",
            "  warnings.warn('`Model.fit_generator` is deprecated and '\n",
            "2021-05-07 07:14:33.980879: I tensorflow/compiler/mlir/mlir_graph_optimization_pass.cc:116] None of the MLIR optimization passes are enabled (registered 2)\n",
            "2021-05-07 07:14:33.982620: I tensorflow/core/platform/profile_utils/cpu_utils.cc:112] CPU Frequency: 2199995000 Hz\n",
            "Epoch 1/100000\n",
            "2021-05-07 07:14:56.163003: I tensorflow/stream_executor/platform/default/dso_loader.cc:49] Successfully opened dynamic library libcublas.so.11\n",
            "2021-05-07 07:14:58.633312: I tensorflow/stream_executor/platform/default/dso_loader.cc:49] Successfully opened dynamic library libcublasLt.so.11\n",
            "2021-05-07 07:15:00.989319: I tensorflow/stream_executor/platform/default/dso_loader.cc:49] Successfully opened dynamic library libcudnn.so.8\n",
            "  1/409 [..............................] - ETA: 6:34:08 - loss: 5.5508 - accuracy: 0.0000e+002021-05-07 07:15:32.496802: I tensorflow/core/profiler/lib/profiler_session.cc:136] Profiler session initializing.\n",
            "2021-05-07 07:15:32.496862: I tensorflow/core/profiler/lib/profiler_session.cc:155] Profiler session started.\n",
            "  2/409 [..............................] - ETA: 10:33 - loss: 5.5299 - accuracy: 0.0000e+00  2021-05-07 07:15:33.558911: I tensorflow/core/profiler/lib/profiler_session.cc:71] Profiler session collecting data.\n",
            "2021-05-07 07:15:33.563924: I tensorflow/core/profiler/internal/gpu/cupti_tracer.cc:1487] CUPTI activity buffer flushed\n",
            "2021-05-07 07:15:33.775057: I tensorflow/core/profiler/internal/gpu/cupti_collector.cc:228]  GpuTracer has collected 6211 callback api events and 6199 activity events. \n",
            "2021-05-07 07:15:33.939038: I tensorflow/core/profiler/lib/profiler_session.cc:172] Profiler session tear down.\n",
            "2021-05-07 07:15:34.335542: I tensorflow/core/profiler/rpc/client/save_profile.cc:137] Creating directory: ./logs/train/plugins/profile/2021_05_07_07_15_33\n",
            "2021-05-07 07:15:34.499480: I tensorflow/core/profiler/rpc/client/save_profile.cc:143] Dumped gzipped tool data for trace.json.gz to ./logs/train/plugins/profile/2021_05_07_07_15_33/e7c5b48fbd72.trace.json.gz\n",
            "2021-05-07 07:15:34.684901: I tensorflow/core/profiler/rpc/client/save_profile.cc:137] Creating directory: ./logs/train/plugins/profile/2021_05_07_07_15_33\n",
            "2021-05-07 07:15:34.696171: I tensorflow/core/profiler/rpc/client/save_profile.cc:143] Dumped gzipped tool data for memory_profile.json.gz to ./logs/train/plugins/profile/2021_05_07_07_15_33/e7c5b48fbd72.memory_profile.json.gz\n",
            "2021-05-07 07:15:34.726298: I tensorflow/core/profiler/rpc/client/capture_profile.cc:251] Creating directory: ./logs/train/plugins/profile/2021_05_07_07_15_33Dumped tool data for xplane.pb to ./logs/train/plugins/profile/2021_05_07_07_15_33/e7c5b48fbd72.xplane.pb\n",
            "Dumped tool data for overview_page.pb to ./logs/train/plugins/profile/2021_05_07_07_15_33/e7c5b48fbd72.overview_page.pb\n",
            "Dumped tool data for input_pipeline.pb to ./logs/train/plugins/profile/2021_05_07_07_15_33/e7c5b48fbd72.input_pipeline.pb\n",
            "Dumped tool data for tensorflow_stats.pb to ./logs/train/plugins/profile/2021_05_07_07_15_33/e7c5b48fbd72.tensorflow_stats.pb\n",
            "Dumped tool data for kernel_stats.pb to ./logs/train/plugins/profile/2021_05_07_07_15_33/e7c5b48fbd72.kernel_stats.pb\n",
            "\n",
            "409/409 [==============================] - 2304s 6s/step - loss: 5.0670 - accuracy: 0.0453 - val_loss: 2.4940 - val_accuracy: 0.3887\n",
            "\n",
            "Epoch 00001: val_accuracy improved from -inf to 0.38875, saving model to model/model.01-0.39.hdf5\n",
            "409/409 [==============================] - 2304s 6s/step - loss: 5.0670 - accuracy: 0.0453 - val_loss: 2.4940 - val_accuracy: 0.3887\n",
            "\n",
            "Epoch 00001: val_accuracy improved from -inf to 0.38875, saving model to model/model.01-0.39.hdf5\n",
            "Epoch 2/100000\n",
            "Epoch 2/100000\n",
            "409/409 [==============================] - 476s 1s/step - loss: 2.3890 - accuracy: 0.4468 - val_loss: 1.1870 - val_accuracy: 0.6956\n",
            "\n",
            "Epoch 00002: val_accuracy improved from 0.38875 to 0.69563, saving model to model/model.02-0.70.hdf5\n",
            "409/409 [==============================] - 476s 1s/step - loss: 2.3890 - accuracy: 0.4468 - val_loss: 1.1870 - val_accuracy: 0.6956\n",
            "\n",
            "Epoch 00002: val_accuracy improved from 0.38875 to 0.69563, saving model to model/model.02-0.70.hdf5\n",
            "Epoch 3/100000\n",
            "Epoch 3/100000\n",
            "409/409 [==============================] - 252s 615ms/step - loss: 1.1183 - accuracy: 0.7260 - val_loss: 0.6164 - val_accuracy: 0.8238\n",
            "\n",
            "Epoch 00003: val_accuracy improved from 0.69563 to 0.82375, saving model to model/model.03-0.82.hdf5\n",
            "409/409 [==============================] - 252s 615ms/step - loss: 1.1183 - accuracy: 0.7260 - val_loss: 0.6164 - val_accuracy: 0.8238\n",
            "\n",
            "Epoch 00003: val_accuracy improved from 0.69563 to 0.82375, saving model to model/model.03-0.82.hdf5\n",
            "Epoch 4/100000\n",
            "Epoch 4/100000\n",
            "409/409 [==============================] - 230s 560ms/step - loss: 0.6654 - accuracy: 0.8333 - val_loss: 0.3267 - val_accuracy: 0.9106\n",
            "\n",
            "Epoch 00004: val_accuracy improved from 0.82375 to 0.91062, saving model to model/model.04-0.91.hdf5\n",
            "409/409 [==============================] - 230s 560ms/step - loss: 0.6654 - accuracy: 0.8333 - val_loss: 0.3267 - val_accuracy: 0.9106\n",
            "\n",
            "Epoch 00004: val_accuracy improved from 0.82375 to 0.91062, saving model to model/model.04-0.91.hdf5\n",
            "Epoch 5/100000\n",
            "Epoch 5/100000\n",
            "409/409 [==============================] - 228s 557ms/step - loss: 0.4175 - accuracy: 0.8960 - val_loss: 0.3404 - val_accuracy: 0.9069\n",
            "\n",
            "Epoch 00005: val_accuracy did not improve from 0.91062\n",
            "Epoch 6/100000\n",
            "409/409 [==============================] - 228s 557ms/step - loss: 0.4175 - accuracy: 0.8960 - val_loss: 0.3404 - val_accuracy: 0.9069\n",
            "\n",
            "Epoch 00005: val_accuracy did not improve from 0.91062\n",
            "Epoch 6/100000\n",
            "409/409 [==============================] - 228s 556ms/step - loss: 0.4082 - accuracy: 0.8966 - val_loss: 0.3100 - val_accuracy: 0.9175\n",
            "\n",
            "Epoch 00006: val_accuracy improved from 0.91062 to 0.91750, saving model to model/model.06-0.92.hdf5\n",
            "409/409 [==============================] - 228s 556ms/step - loss: 0.4082 - accuracy: 0.8966 - val_loss: 0.3100 - val_accuracy: 0.9175\n",
            "\n",
            "Epoch 00006: val_accuracy improved from 0.91062 to 0.91750, saving model to model/model.06-0.92.hdf5\n",
            "Epoch 7/100000\n",
            "Epoch 7/100000\n",
            "409/409 [==============================] - 228s 556ms/step - loss: 0.2830 - accuracy: 0.9268 - val_loss: 0.1293 - val_accuracy: 0.9644\n",
            "\n",
            "Epoch 00007: val_accuracy improved from 0.91750 to 0.96438, saving model to model/model.07-0.96.hdf5\n",
            "409/409 [==============================] - 228s 556ms/step - loss: 0.2830 - accuracy: 0.9268 - val_loss: 0.1293 - val_accuracy: 0.9644\n",
            "\n",
            "Epoch 00007: val_accuracy improved from 0.91750 to 0.96438, saving model to model/model.07-0.96.hdf5\n",
            "Epoch 8/100000\n",
            "Epoch 8/100000\n",
            "409/409 [==============================] - 228s 556ms/step - loss: 0.2030 - accuracy: 0.9501 - val_loss: 0.0990 - val_accuracy: 0.9719\n",
            "\n",
            "Epoch 00008: val_accuracy improved from 0.96438 to 0.97188, saving model to model/model.08-0.97.hdf5\n",
            "409/409 [==============================] - 228s 556ms/step - loss: 0.2030 - accuracy: 0.9501 - val_loss: 0.0990 - val_accuracy: 0.9719\n",
            "\n",
            "Epoch 00008: val_accuracy improved from 0.96438 to 0.97188, saving model to model/model.08-0.97.hdf5\n",
            "Epoch 9/100000\n",
            "Epoch 9/100000\n",
            "409/409 [==============================] - 228s 557ms/step - loss: 0.1506 - accuracy: 0.9638 - val_loss: 0.0752 - val_accuracy: 0.9794\n",
            "\n",
            "Epoch 00009: val_accuracy improved from 0.97188 to 0.97938, saving model to model/model.09-0.98.hdf5\n",
            "409/409 [==============================] - 228s 557ms/step - loss: 0.1506 - accuracy: 0.9638 - val_loss: 0.0752 - val_accuracy: 0.9794\n",
            "\n",
            "Epoch 00009: val_accuracy improved from 0.97188 to 0.97938, saving model to model/model.09-0.98.hdf5\n",
            "Epoch 10/100000\n",
            "Epoch 10/100000\n",
            "409/409 [==============================] - 228s 556ms/step - loss: 0.1271 - accuracy: 0.9689 - val_loss: 0.0646 - val_accuracy: 0.9837\n",
            "\n",
            "Epoch 00010: val_accuracy improved from 0.97938 to 0.98375, saving model to model/model.10-0.98.hdf5\n",
            "409/409 [==============================] - 228s 556ms/step - loss: 0.1271 - accuracy: 0.9689 - val_loss: 0.0646 - val_accuracy: 0.9837\n",
            "\n",
            "Epoch 00010: val_accuracy improved from 0.97938 to 0.98375, saving model to model/model.10-0.98.hdf5\n",
            "Epoch 11/100000\n",
            "Epoch 11/100000\n",
            "409/409 [==============================] - 228s 556ms/step - loss: 0.1070 - accuracy: 0.9760 - val_loss: 0.0533 - val_accuracy: 0.9894\n",
            "\n",
            "Epoch 00011: val_accuracy improved from 0.98375 to 0.98937, saving model to model/model.11-0.99.hdf5\n",
            "409/409 [==============================] - 228s 556ms/step - loss: 0.1070 - accuracy: 0.9760 - val_loss: 0.0533 - val_accuracy: 0.9894\n",
            "\n",
            "Epoch 00011: val_accuracy improved from 0.98375 to 0.98937, saving model to model/model.11-0.99.hdf5\n",
            "Epoch 12/100000\n",
            "Epoch 12/100000\n",
            "409/409 [==============================] - 228s 557ms/step - loss: 0.0949 - accuracy: 0.9796 - val_loss: 0.0566 - val_accuracy: 0.9825\n",
            "\n",
            "Epoch 00012: val_accuracy did not improve from 0.98937\n",
            "Epoch 13/100000\n",
            "409/409 [==============================] - 228s 557ms/step - loss: 0.0949 - accuracy: 0.9796 - val_loss: 0.0566 - val_accuracy: 0.9825\n",
            "\n",
            "Epoch 00012: val_accuracy did not improve from 0.98937\n",
            "Epoch 13/100000\n",
            "409/409 [==============================] - 228s 556ms/step - loss: 0.0802 - accuracy: 0.9799 - val_loss: 0.0420 - val_accuracy: 0.9869\n",
            "\n",
            "Epoch 00013: val_accuracy did not improve from 0.98937\n",
            "Epoch 14/100000\n",
            "409/409 [==============================] - 228s 556ms/step - loss: 0.0802 - accuracy: 0.9799 - val_loss: 0.0420 - val_accuracy: 0.9869\n",
            "\n",
            "Epoch 00013: val_accuracy did not improve from 0.98937\n",
            "Epoch 14/100000\n",
            "409/409 [==============================] - 228s 556ms/step - loss: 0.0703 - accuracy: 0.9863 - val_loss: 0.0475 - val_accuracy: 0.9862\n",
            "\n",
            "Epoch 00014: val_accuracy did not improve from 0.98937\n",
            "Epoch 15/100000\n",
            "409/409 [==============================] - 228s 556ms/step - loss: 0.0703 - accuracy: 0.9863 - val_loss: 0.0475 - val_accuracy: 0.9862\n",
            "\n",
            "Epoch 00014: val_accuracy did not improve from 0.98937\n",
            "Epoch 15/100000\n",
            "409/409 [==============================] - 228s 556ms/step - loss: 0.0634 - accuracy: 0.9863 - val_loss: 0.0358 - val_accuracy: 0.9881\n",
            "\n",
            "Epoch 00015: val_accuracy did not improve from 0.98937\n",
            "Epoch 16/100000\n",
            "409/409 [==============================] - 228s 556ms/step - loss: 0.0634 - accuracy: 0.9863 - val_loss: 0.0358 - val_accuracy: 0.9881\n",
            "\n",
            "Epoch 00015: val_accuracy did not improve from 0.98937\n",
            "Epoch 16/100000\n",
            "409/409 [==============================] - 228s 556ms/step - loss: 0.0602 - accuracy: 0.9855 - val_loss: 0.0483 - val_accuracy: 0.9869\n",
            "\n",
            "Epoch 00016: val_accuracy did not improve from 0.98937\n",
            "Epoch 17/100000\n",
            "409/409 [==============================] - 228s 556ms/step - loss: 0.0602 - accuracy: 0.9855 - val_loss: 0.0483 - val_accuracy: 0.9869\n",
            "\n",
            "Epoch 00016: val_accuracy did not improve from 0.98937\n",
            "Epoch 17/100000\n",
            "409/409 [==============================] - 228s 556ms/step - loss: 0.0534 - accuracy: 0.9892 - val_loss: 0.0312 - val_accuracy: 0.9919\n",
            "\n",
            "Epoch 00017: val_accuracy improved from 0.98937 to 0.99187, saving model to model/model.17-0.99.hdf5\n",
            "409/409 [==============================] - 228s 556ms/step - loss: 0.0534 - accuracy: 0.9892 - val_loss: 0.0312 - val_accuracy: 0.9919\n",
            "\n",
            "Epoch 00017: val_accuracy improved from 0.98937 to 0.99187, saving model to model/model.17-0.99.hdf5\n",
            "Epoch 18/100000\n",
            "Epoch 18/100000\n",
            "409/409 [==============================] - 228s 557ms/step - loss: 0.0484 - accuracy: 0.9873 - val_loss: 0.0303 - val_accuracy: 0.9912\n",
            "\n",
            "Epoch 00018: val_accuracy did not improve from 0.99187\n",
            "Epoch 19/100000\n",
            "409/409 [==============================] - 228s 557ms/step - loss: 0.0484 - accuracy: 0.9873 - val_loss: 0.0303 - val_accuracy: 0.9912\n",
            "\n",
            "Epoch 00018: val_accuracy did not improve from 0.99187\n",
            "Epoch 19/100000\n",
            "409/409 [==============================] - 227s 555ms/step - loss: 0.0517 - accuracy: 0.9869 - val_loss: 0.0336 - val_accuracy: 0.9906\n",
            "\n",
            "Epoch 00019: val_accuracy did not improve from 0.99187\n",
            "Epoch 20/100000\n",
            "409/409 [==============================] - 227s 555ms/step - loss: 0.0517 - accuracy: 0.9869 - val_loss: 0.0336 - val_accuracy: 0.9906\n",
            "\n",
            "Epoch 00019: val_accuracy did not improve from 0.99187\n",
            "Epoch 20/100000\n",
            "409/409 [==============================] - 228s 556ms/step - loss: 0.0448 - accuracy: 0.9879 - val_loss: 0.0224 - val_accuracy: 0.9944\n",
            "\n",
            "Epoch 00020: val_accuracy improved from 0.99187 to 0.99437, saving model to model/model.20-0.99.hdf5\n",
            "409/409 [==============================] - 228s 556ms/step - loss: 0.0448 - accuracy: 0.9879 - val_loss: 0.0224 - val_accuracy: 0.9944\n",
            "\n",
            "Epoch 00020: val_accuracy improved from 0.99187 to 0.99437, saving model to model/model.20-0.99.hdf5\n",
            "Epoch 21/100000\n",
            "Epoch 21/100000\n",
            "409/409 [==============================] - 228s 557ms/step - loss: 0.0358 - accuracy: 0.9916 - val_loss: 0.0268 - val_accuracy: 0.9931\n",
            "\n",
            "Epoch 00021: val_accuracy did not improve from 0.99437\n",
            "Epoch 22/100000\n",
            "409/409 [==============================] - 228s 557ms/step - loss: 0.0358 - accuracy: 0.9916 - val_loss: 0.0268 - val_accuracy: 0.9931\n",
            "\n",
            "Epoch 00021: val_accuracy did not improve from 0.99437\n",
            "Epoch 22/100000\n",
            "409/409 [==============================] - 228s 556ms/step - loss: 0.0350 - accuracy: 0.9915 - val_loss: 0.0256 - val_accuracy: 0.9919\n",
            "\n",
            "Epoch 00022: val_accuracy did not improve from 0.99437\n",
            "Epoch 23/100000\n",
            "409/409 [==============================] - 228s 556ms/step - loss: 0.0350 - accuracy: 0.9915 - val_loss: 0.0256 - val_accuracy: 0.9919\n",
            "\n",
            "Epoch 00022: val_accuracy did not improve from 0.99437\n",
            "Epoch 23/100000\n",
            "409/409 [==============================] - 228s 556ms/step - loss: 0.0344 - accuracy: 0.9919 - val_loss: 0.0338 - val_accuracy: 0.9900\n",
            "\n",
            "Epoch 00023: val_accuracy did not improve from 0.99437\n",
            "Epoch 24/100000\n",
            "409/409 [==============================] - 228s 556ms/step - loss: 0.0344 - accuracy: 0.9919 - val_loss: 0.0338 - val_accuracy: 0.9900\n",
            "\n",
            "Epoch 00023: val_accuracy did not improve from 0.99437\n",
            "Epoch 24/100000\n",
            "409/409 [==============================] - 227s 555ms/step - loss: 0.0310 - accuracy: 0.9927 - val_loss: 0.0241 - val_accuracy: 0.9925\n",
            "\n",
            "Epoch 00024: val_accuracy did not improve from 0.99437\n",
            "Epoch 25/100000\n",
            "409/409 [==============================] - 227s 555ms/step - loss: 0.0310 - accuracy: 0.9927 - val_loss: 0.0241 - val_accuracy: 0.9925\n",
            "\n",
            "Epoch 00024: val_accuracy did not improve from 0.99437\n",
            "Epoch 25/100000\n",
            "409/409 [==============================] - 228s 556ms/step - loss: 0.0267 - accuracy: 0.9942 - val_loss: 0.0193 - val_accuracy: 0.9937\n",
            "\n",
            "Epoch 00025: val_accuracy did not improve from 0.99437\n",
            "Epoch 26/100000\n",
            "409/409 [==============================] - 228s 556ms/step - loss: 0.0267 - accuracy: 0.9942 - val_loss: 0.0193 - val_accuracy: 0.9937\n",
            "\n",
            "Epoch 00025: val_accuracy did not improve from 0.99437\n",
            "Epoch 26/100000\n",
            "409/409 [==============================] - 227s 555ms/step - loss: 0.0260 - accuracy: 0.9944 - val_loss: 0.0227 - val_accuracy: 0.9937\n",
            "\n",
            "Epoch 00026: val_accuracy did not improve from 0.99437\n",
            "Epoch 27/100000\n",
            "409/409 [==============================] - 227s 555ms/step - loss: 0.0260 - accuracy: 0.9944 - val_loss: 0.0227 - val_accuracy: 0.9937\n",
            "\n",
            "Epoch 00026: val_accuracy did not improve from 0.99437\n",
            "Epoch 27/100000\n",
            "409/409 [==============================] - 227s 555ms/step - loss: 0.0269 - accuracy: 0.9944 - val_loss: 0.0223 - val_accuracy: 0.9931\n",
            "\n",
            "Epoch 00027: val_accuracy did not improve from 0.99437\n",
            "Epoch 28/100000\n",
            "409/409 [==============================] - 227s 555ms/step - loss: 0.0269 - accuracy: 0.9944 - val_loss: 0.0223 - val_accuracy: 0.9931\n",
            "\n",
            "Epoch 00027: val_accuracy did not improve from 0.99437\n",
            "Epoch 28/100000\n",
            "409/409 [==============================] - 227s 555ms/step - loss: 0.0260 - accuracy: 0.9939 - val_loss: 0.0283 - val_accuracy: 0.9925\n",
            "\n",
            "Epoch 00028: val_accuracy did not improve from 0.99437\n",
            "Epoch 29/100000\n",
            "409/409 [==============================] - 227s 555ms/step - loss: 0.0260 - accuracy: 0.9939 - val_loss: 0.0283 - val_accuracy: 0.9925\n",
            "\n",
            "Epoch 00028: val_accuracy did not improve from 0.99437\n",
            "Epoch 29/100000\n",
            "409/409 [==============================] - 228s 556ms/step - loss: 0.0241 - accuracy: 0.9950 - val_loss: 0.0244 - val_accuracy: 0.9925\n",
            "\n",
            "Epoch 00029: val_accuracy did not improve from 0.99437\n",
            "Epoch 30/100000\n",
            "409/409 [==============================] - 228s 556ms/step - loss: 0.0241 - accuracy: 0.9950 - val_loss: 0.0244 - val_accuracy: 0.9925\n",
            "\n",
            "Epoch 00029: val_accuracy did not improve from 0.99437\n",
            "Epoch 30/100000\n",
            "409/409 [==============================] - 227s 555ms/step - loss: 0.0232 - accuracy: 0.9940 - val_loss: 0.0187 - val_accuracy: 0.9937\n",
            "\n",
            "Epoch 00030: val_accuracy did not improve from 0.99437\n",
            "Epoch 31/100000\n",
            "409/409 [==============================] - 227s 555ms/step - loss: 0.0232 - accuracy: 0.9940 - val_loss: 0.0187 - val_accuracy: 0.9937\n",
            "\n",
            "Epoch 00030: val_accuracy did not improve from 0.99437\n",
            "Epoch 31/100000\n",
            "409/409 [==============================] - 227s 555ms/step - loss: 0.0166 - accuracy: 0.9970 - val_loss: 0.0242 - val_accuracy: 0.9937\n",
            "\n",
            "Epoch 00031: val_accuracy did not improve from 0.99437\n",
            "Epoch 32/100000\n",
            "409/409 [==============================] - 227s 555ms/step - loss: 0.0166 - accuracy: 0.9970 - val_loss: 0.0242 - val_accuracy: 0.9937\n",
            "\n",
            "Epoch 00031: val_accuracy did not improve from 0.99437\n",
            "Epoch 32/100000\n",
            "409/409 [==============================] - 228s 556ms/step - loss: 0.0199 - accuracy: 0.9951 - val_loss: 0.0212 - val_accuracy: 0.9925\n",
            "\n",
            "Epoch 00032: val_accuracy did not improve from 0.99437\n",
            "\n",
            "Epoch 00032: ReduceLROnPlateau reducing learning rate to 0.00010000000474974513.\n",
            "Epoch 33/100000\n",
            "409/409 [==============================] - 228s 556ms/step - loss: 0.0199 - accuracy: 0.9951 - val_loss: 0.0212 - val_accuracy: 0.9925\n",
            "\n",
            "Epoch 00032: val_accuracy did not improve from 0.99437\n",
            "\n",
            "Epoch 00032: ReduceLROnPlateau reducing learning rate to 0.00010000000474974513.\n",
            "Epoch 33/100000\n",
            "358/409 [=========================>....] - ETA: 26s - loss: 0.0230 - accuracy: 0.9949"
          ],
          "name": "stdout"
        }
      ]
    },
    {
      "cell_type": "code",
      "metadata": {
        "colab": {
          "base_uri": "https://localhost:8080/"
        },
        "id": "veWAc_G5Oer-",
        "outputId": "cf8c23f6-619c-463f-aaca-179a12a1651d"
      },
      "source": [
        "! python /content/drive/Car-Recognition/test.py"
      ],
      "execution_count": null,
      "outputs": [
        {
          "output_type": "stream",
          "text": [
            "2021-05-06 18:07:26.784893: I tensorflow/stream_executor/platform/default/dso_loader.cc:49] Successfully opened dynamic library libcudart.so.11.0\n",
            "2021-05-06 18:07:28.540581: I tensorflow/compiler/jit/xla_cpu_device.cc:41] Not creating XLA devices, tf_xla_enable_xla_devices not set\n",
            "2021-05-06 18:07:28.541422: I tensorflow/stream_executor/platform/default/dso_loader.cc:49] Successfully opened dynamic library libcuda.so.1\n",
            "2021-05-06 18:07:28.547665: I tensorflow/stream_executor/cuda/cuda_gpu_executor.cc:941] successful NUMA node read from SysFS had negative value (-1), but there must be at least one NUMA node, so returning NUMA node zero\n",
            "2021-05-06 18:07:28.548236: I tensorflow/core/common_runtime/gpu/gpu_device.cc:1720] Found device 0 with properties: \n",
            "pciBusID: 0000:00:04.0 name: Tesla T4 computeCapability: 7.5\n",
            "coreClock: 1.59GHz coreCount: 40 deviceMemorySize: 14.75GiB deviceMemoryBandwidth: 298.08GiB/s\n",
            "2021-05-06 18:07:28.548278: I tensorflow/stream_executor/platform/default/dso_loader.cc:49] Successfully opened dynamic library libcudart.so.11.0\n",
            "2021-05-06 18:07:28.550648: I tensorflow/stream_executor/platform/default/dso_loader.cc:49] Successfully opened dynamic library libcublas.so.11\n",
            "2021-05-06 18:07:28.550724: I tensorflow/stream_executor/platform/default/dso_loader.cc:49] Successfully opened dynamic library libcublasLt.so.11\n",
            "2021-05-06 18:07:28.552220: I tensorflow/stream_executor/platform/default/dso_loader.cc:49] Successfully opened dynamic library libcufft.so.10\n",
            "2021-05-06 18:07:28.552577: I tensorflow/stream_executor/platform/default/dso_loader.cc:49] Successfully opened dynamic library libcurand.so.10\n",
            "2021-05-06 18:07:28.554304: I tensorflow/stream_executor/platform/default/dso_loader.cc:49] Successfully opened dynamic library libcusolver.so.10\n",
            "2021-05-06 18:07:28.555010: I tensorflow/stream_executor/platform/default/dso_loader.cc:49] Successfully opened dynamic library libcusparse.so.11\n",
            "2021-05-06 18:07:28.555186: I tensorflow/stream_executor/platform/default/dso_loader.cc:49] Successfully opened dynamic library libcudnn.so.8\n",
            "2021-05-06 18:07:28.555290: I tensorflow/stream_executor/cuda/cuda_gpu_executor.cc:941] successful NUMA node read from SysFS had negative value (-1), but there must be at least one NUMA node, so returning NUMA node zero\n",
            "2021-05-06 18:07:28.555881: I tensorflow/stream_executor/cuda/cuda_gpu_executor.cc:941] successful NUMA node read from SysFS had negative value (-1), but there must be at least one NUMA node, so returning NUMA node zero\n",
            "2021-05-06 18:07:28.556372: I tensorflow/core/common_runtime/gpu/gpu_device.cc:1862] Adding visible gpu devices: 0\n",
            "2021-05-06 18:07:28.556737: I tensorflow/compiler/jit/xla_gpu_device.cc:99] Not creating XLA devices, tf_xla_enable_xla_devices not set\n",
            "2021-05-06 18:07:28.556857: I tensorflow/stream_executor/cuda/cuda_gpu_executor.cc:941] successful NUMA node read from SysFS had negative value (-1), but there must be at least one NUMA node, so returning NUMA node zero\n",
            "2021-05-06 18:07:28.557402: I tensorflow/core/common_runtime/gpu/gpu_device.cc:1720] Found device 0 with properties: \n",
            "pciBusID: 0000:00:04.0 name: Tesla T4 computeCapability: 7.5\n",
            "coreClock: 1.59GHz coreCount: 40 deviceMemorySize: 14.75GiB deviceMemoryBandwidth: 298.08GiB/s\n",
            "2021-05-06 18:07:28.557444: I tensorflow/stream_executor/platform/default/dso_loader.cc:49] Successfully opened dynamic library libcudart.so.11.0\n",
            "2021-05-06 18:07:28.557476: I tensorflow/stream_executor/platform/default/dso_loader.cc:49] Successfully opened dynamic library libcublas.so.11\n",
            "2021-05-06 18:07:28.557500: I tensorflow/stream_executor/platform/default/dso_loader.cc:49] Successfully opened dynamic library libcublasLt.so.11\n",
            "2021-05-06 18:07:28.557522: I tensorflow/stream_executor/platform/default/dso_loader.cc:49] Successfully opened dynamic library libcufft.so.10\n",
            "2021-05-06 18:07:28.557542: I tensorflow/stream_executor/platform/default/dso_loader.cc:49] Successfully opened dynamic library libcurand.so.10\n",
            "2021-05-06 18:07:28.557562: I tensorflow/stream_executor/platform/default/dso_loader.cc:49] Successfully opened dynamic library libcusolver.so.10\n",
            "2021-05-06 18:07:28.557582: I tensorflow/stream_executor/platform/default/dso_loader.cc:49] Successfully opened dynamic library libcusparse.so.11\n",
            "2021-05-06 18:07:28.557602: I tensorflow/stream_executor/platform/default/dso_loader.cc:49] Successfully opened dynamic library libcudnn.so.8\n",
            "2021-05-06 18:07:28.557666: I tensorflow/stream_executor/cuda/cuda_gpu_executor.cc:941] successful NUMA node read from SysFS had negative value (-1), but there must be at least one NUMA node, so returning NUMA node zero\n",
            "2021-05-06 18:07:28.558204: I tensorflow/stream_executor/cuda/cuda_gpu_executor.cc:941] successful NUMA node read from SysFS had negative value (-1), but there must be at least one NUMA node, so returning NUMA node zero\n",
            "2021-05-06 18:07:28.558666: I tensorflow/core/common_runtime/gpu/gpu_device.cc:1862] Adding visible gpu devices: 0\n",
            "2021-05-06 18:07:28.558713: I tensorflow/stream_executor/platform/default/dso_loader.cc:49] Successfully opened dynamic library libcudart.so.11.0\n",
            "2021-05-06 18:07:29.037788: I tensorflow/core/common_runtime/gpu/gpu_device.cc:1261] Device interconnect StreamExecutor with strength 1 edge matrix:\n",
            "2021-05-06 18:07:29.037845: I tensorflow/core/common_runtime/gpu/gpu_device.cc:1267]      0 \n",
            "2021-05-06 18:07:29.037861: I tensorflow/core/common_runtime/gpu/gpu_device.cc:1280] 0:   N \n",
            "2021-05-06 18:07:29.038077: I tensorflow/stream_executor/cuda/cuda_gpu_executor.cc:941] successful NUMA node read from SysFS had negative value (-1), but there must be at least one NUMA node, so returning NUMA node zero\n",
            "2021-05-06 18:07:29.038645: I tensorflow/stream_executor/cuda/cuda_gpu_executor.cc:941] successful NUMA node read from SysFS had negative value (-1), but there must be at least one NUMA node, so returning NUMA node zero\n",
            "2021-05-06 18:07:29.039206: I tensorflow/stream_executor/cuda/cuda_gpu_executor.cc:941] successful NUMA node read from SysFS had negative value (-1), but there must be at least one NUMA node, so returning NUMA node zero\n",
            "2021-05-06 18:07:29.039681: W tensorflow/core/common_runtime/gpu/gpu_bfc_allocator.cc:39] Overriding allow_growth setting because the TF_FORCE_GPU_ALLOW_GROWTH environment variable is set. Original config value was 0.\n",
            "2021-05-06 18:07:29.039727: I tensorflow/core/common_runtime/gpu/gpu_device.cc:1406] Created TensorFlow device (/job:localhost/replica:0/task:0/device:GPU:0 with 12826 MB memory) -> physical GPU (device: 0, name: Tesla T4, pci bus id: 0000:00:04.0, compute capability: 7.5)\n",
            "2021-05-06 18:07:34.134106: I tensorflow/compiler/mlir/mlir_graph_optimization_pass.cc:116] None of the MLIR optimization passes are enabled (registered 2)\n",
            "2021-05-06 18:07:34.134521: I tensorflow/core/platform/profile_utils/cpu_utils.cc:112] CPU Frequency: 2199995000 Hz\n",
            "2021-05-06 18:07:37.480567: I tensorflow/stream_executor/platform/default/dso_loader.cc:49] Successfully opened dynamic library libcublas.so.11\n",
            "2021-05-06 18:07:37.934313: I tensorflow/stream_executor/platform/default/dso_loader.cc:49] Successfully opened dynamic library libcublasLt.so.11\n",
            "2021-05-06 18:07:37.938881: I tensorflow/stream_executor/platform/default/dso_loader.cc:49] Successfully opened dynamic library libcudnn.so.8\n",
            "Predicting test data |==================================================| 100.000% \n",
            "avg fps: 17.626125440303717\n"
          ],
          "name": "stdout"
        }
      ]
    },
    {
      "cell_type": "code",
      "metadata": {
        "colab": {
          "base_uri": "https://localhost:8080/"
        },
        "id": "Jkpm1Y7AO7ng",
        "outputId": "7fd9d5a1-4d42-4745-ea9a-27286cb70da9"
      },
      "source": [
        "! python /content/Car-Recognition/demo.py --i [/content/Car-Recognition/data/test/00001.jpg]"
      ],
      "execution_count": null,
      "outputs": [
        {
          "output_type": "stream",
          "text": [
            "2021-05-06 17:56:37.540246: I tensorflow/stream_executor/platform/default/dso_loader.cc:49] Successfully opened dynamic library libcudart.so.11.0\n",
            "2021-05-06 17:56:39.374673: I tensorflow/compiler/jit/xla_cpu_device.cc:41] Not creating XLA devices, tf_xla_enable_xla_devices not set\n",
            "2021-05-06 17:56:39.375573: I tensorflow/stream_executor/platform/default/dso_loader.cc:49] Successfully opened dynamic library libcuda.so.1\n",
            "2021-05-06 17:56:39.405382: I tensorflow/stream_executor/cuda/cuda_gpu_executor.cc:941] successful NUMA node read from SysFS had negative value (-1), but there must be at least one NUMA node, so returning NUMA node zero\n",
            "2021-05-06 17:56:39.405973: I tensorflow/core/common_runtime/gpu/gpu_device.cc:1720] Found device 0 with properties: \n",
            "pciBusID: 0000:00:04.0 name: Tesla T4 computeCapability: 7.5\n",
            "coreClock: 1.59GHz coreCount: 40 deviceMemorySize: 14.75GiB deviceMemoryBandwidth: 298.08GiB/s\n",
            "2021-05-06 17:56:39.406047: I tensorflow/stream_executor/platform/default/dso_loader.cc:49] Successfully opened dynamic library libcudart.so.11.0\n",
            "2021-05-06 17:56:39.409403: I tensorflow/stream_executor/platform/default/dso_loader.cc:49] Successfully opened dynamic library libcublas.so.11\n",
            "2021-05-06 17:56:39.409496: I tensorflow/stream_executor/platform/default/dso_loader.cc:49] Successfully opened dynamic library libcublasLt.so.11\n",
            "2021-05-06 17:56:39.411396: I tensorflow/stream_executor/platform/default/dso_loader.cc:49] Successfully opened dynamic library libcufft.so.10\n",
            "2021-05-06 17:56:39.411773: I tensorflow/stream_executor/platform/default/dso_loader.cc:49] Successfully opened dynamic library libcurand.so.10\n",
            "2021-05-06 17:56:39.413690: I tensorflow/stream_executor/platform/default/dso_loader.cc:49] Successfully opened dynamic library libcusolver.so.10\n",
            "2021-05-06 17:56:39.414445: I tensorflow/stream_executor/platform/default/dso_loader.cc:49] Successfully opened dynamic library libcusparse.so.11\n",
            "2021-05-06 17:56:39.414646: I tensorflow/stream_executor/platform/default/dso_loader.cc:49] Successfully opened dynamic library libcudnn.so.8\n",
            "2021-05-06 17:56:39.414753: I tensorflow/stream_executor/cuda/cuda_gpu_executor.cc:941] successful NUMA node read from SysFS had negative value (-1), but there must be at least one NUMA node, so returning NUMA node zero\n",
            "2021-05-06 17:56:39.415348: I tensorflow/stream_executor/cuda/cuda_gpu_executor.cc:941] successful NUMA node read from SysFS had negative value (-1), but there must be at least one NUMA node, so returning NUMA node zero\n",
            "2021-05-06 17:56:39.415895: I tensorflow/core/common_runtime/gpu/gpu_device.cc:1862] Adding visible gpu devices: 0\n",
            "2021-05-06 17:56:39.416303: I tensorflow/compiler/jit/xla_gpu_device.cc:99] Not creating XLA devices, tf_xla_enable_xla_devices not set\n",
            "2021-05-06 17:56:39.416424: I tensorflow/stream_executor/cuda/cuda_gpu_executor.cc:941] successful NUMA node read from SysFS had negative value (-1), but there must be at least one NUMA node, so returning NUMA node zero\n",
            "2021-05-06 17:56:39.416965: I tensorflow/core/common_runtime/gpu/gpu_device.cc:1720] Found device 0 with properties: \n",
            "pciBusID: 0000:00:04.0 name: Tesla T4 computeCapability: 7.5\n",
            "coreClock: 1.59GHz coreCount: 40 deviceMemorySize: 14.75GiB deviceMemoryBandwidth: 298.08GiB/s\n",
            "2021-05-06 17:56:39.417002: I tensorflow/stream_executor/platform/default/dso_loader.cc:49] Successfully opened dynamic library libcudart.so.11.0\n",
            "2021-05-06 17:56:39.417038: I tensorflow/stream_executor/platform/default/dso_loader.cc:49] Successfully opened dynamic library libcublas.so.11\n",
            "2021-05-06 17:56:39.417069: I tensorflow/stream_executor/platform/default/dso_loader.cc:49] Successfully opened dynamic library libcublasLt.so.11\n",
            "2021-05-06 17:56:39.417095: I tensorflow/stream_executor/platform/default/dso_loader.cc:49] Successfully opened dynamic library libcufft.so.10\n",
            "2021-05-06 17:56:39.417116: I tensorflow/stream_executor/platform/default/dso_loader.cc:49] Successfully opened dynamic library libcurand.so.10\n",
            "2021-05-06 17:56:39.417137: I tensorflow/stream_executor/platform/default/dso_loader.cc:49] Successfully opened dynamic library libcusolver.so.10\n",
            "2021-05-06 17:56:39.417161: I tensorflow/stream_executor/platform/default/dso_loader.cc:49] Successfully opened dynamic library libcusparse.so.11\n",
            "2021-05-06 17:56:39.417185: I tensorflow/stream_executor/platform/default/dso_loader.cc:49] Successfully opened dynamic library libcudnn.so.8\n",
            "2021-05-06 17:56:39.417253: I tensorflow/stream_executor/cuda/cuda_gpu_executor.cc:941] successful NUMA node read from SysFS had negative value (-1), but there must be at least one NUMA node, so returning NUMA node zero\n",
            "2021-05-06 17:56:39.417846: I tensorflow/stream_executor/cuda/cuda_gpu_executor.cc:941] successful NUMA node read from SysFS had negative value (-1), but there must be at least one NUMA node, so returning NUMA node zero\n",
            "2021-05-06 17:56:39.418387: I tensorflow/core/common_runtime/gpu/gpu_device.cc:1862] Adding visible gpu devices: 0\n",
            "2021-05-06 17:56:39.418440: I tensorflow/stream_executor/platform/default/dso_loader.cc:49] Successfully opened dynamic library libcudart.so.11.0\n",
            "2021-05-06 17:56:39.937243: I tensorflow/core/common_runtime/gpu/gpu_device.cc:1261] Device interconnect StreamExecutor with strength 1 edge matrix:\n",
            "2021-05-06 17:56:39.937298: I tensorflow/core/common_runtime/gpu/gpu_device.cc:1267]      0 \n",
            "2021-05-06 17:56:39.937319: I tensorflow/core/common_runtime/gpu/gpu_device.cc:1280] 0:   N \n",
            "2021-05-06 17:56:39.937521: I tensorflow/stream_executor/cuda/cuda_gpu_executor.cc:941] successful NUMA node read from SysFS had negative value (-1), but there must be at least one NUMA node, so returning NUMA node zero\n",
            "2021-05-06 17:56:39.938165: I tensorflow/stream_executor/cuda/cuda_gpu_executor.cc:941] successful NUMA node read from SysFS had negative value (-1), but there must be at least one NUMA node, so returning NUMA node zero\n",
            "2021-05-06 17:56:39.938828: I tensorflow/stream_executor/cuda/cuda_gpu_executor.cc:941] successful NUMA node read from SysFS had negative value (-1), but there must be at least one NUMA node, so returning NUMA node zero\n",
            "2021-05-06 17:56:39.939624: W tensorflow/core/common_runtime/gpu/gpu_bfc_allocator.cc:39] Overriding allow_growth setting because the TF_FORCE_GPU_ALLOW_GROWTH environment variable is set. Original config value was 0.\n",
            "2021-05-06 17:56:39.939693: I tensorflow/core/common_runtime/gpu/gpu_device.cc:1406] Created TensorFlow device (/job:localhost/replica:0/task:0/device:GPU:0 with 13994 MB memory) -> physical GPU (device: 0, name: Tesla T4, pci bus id: 0000:00:04.0, compute capability: 7.5)\n",
            "Start processing image: data/test/03922.jpg\n",
            "2021-05-06 17:56:46.271803: I tensorflow/compiler/mlir/mlir_graph_optimization_pass.cc:116] None of the MLIR optimization passes are enabled (registered 2)\n",
            "2021-05-06 17:56:46.272277: I tensorflow/core/platform/profile_utils/cpu_utils.cc:112] CPU Frequency: 2199995000 Hz\n",
            "2021-05-06 17:56:49.667503: I tensorflow/stream_executor/platform/default/dso_loader.cc:49] Successfully opened dynamic library libcublas.so.11\n",
            "2021-05-06 17:56:50.129335: I tensorflow/stream_executor/platform/default/dso_loader.cc:49] Successfully opened dynamic library libcublasLt.so.11\n",
            "2021-05-06 17:56:50.134579: I tensorflow/stream_executor/platform/default/dso_loader.cc:49] Successfully opened dynamic library libcudnn.so.8\n",
            "Start processing image: data/test/02050.jpg\n",
            "Start processing image: data/test/04823.jpg\n",
            "Start processing image: data/test/01996.jpg\n",
            "Start processing image: data/test/03143.jpg\n",
            "Start processing image: data/test/03228.jpg\n",
            "Start processing image: data/test/03058.jpg\n",
            "Start processing image: data/test/03988.jpg\n",
            "Start processing image: data/test/02607.jpg\n",
            "Start processing image: data/test/03241.jpg\n",
            "Start processing image: data/test/06848.jpg\n",
            "Start processing image: data/test/00614.jpg\n",
            "Start processing image: data/test/00685.jpg\n",
            "Start processing image: data/test/02527.jpg\n",
            "Start processing image: data/test/05083.jpg\n",
            "Start processing image: data/test/01848.jpg\n",
            "Start processing image: data/test/07451.jpg\n",
            "Start processing image: data/test/02218.jpg\n",
            "Start processing image: data/test/00385.jpg\n",
            "Start processing image: data/test/04640.jpg\n",
            "[{'label': 'Ford E-Series Wagon Van 2012', 'prob': '0.9963'}, {'label': 'Acura ZDX Hatchback 2012', 'prob': '0.9951'}, {'label': 'Chevrolet Avalanche Crew Cab 2012', 'prob': '0.5744'}, {'label': 'Volkswagen Beetle Hatchback 2012', 'prob': '0.9991'}, {'label': 'Ferrari 458 Italia Convertible 2012', 'prob': '0.9964'}, {'label': 'Rolls-Royce Ghost Sedan 2012', 'prob': '0.9985'}, {'label': 'Audi S6 Sedan 2011', 'prob': '0.5471'}, {'label': 'Mercedes-Benz S-Class Sedan 2012', 'prob': '0.7674'}, {'label': 'Chevrolet Camaro Convertible 2012', 'prob': '0.9982'}, {'label': 'Aston Martin V8 Vantage Coupe 2012', 'prob': '0.864'}, {'label': 'Aston Martin V8 Vantage Convertible 2012', 'prob': '0.5292'}, {'label': 'Hyundai Azera Sedan 2012', 'prob': '0.9906'}, {'label': 'Jaguar XK XKR 2012', 'prob': '0.9997'}, {'label': 'Bentley Continental Supersports Conv. Convertible 2012', 'prob': '0.9852'}, {'label': 'Ferrari FF Coupe 2012', 'prob': '0.6968'}, {'label': 'Porsche Panamera Sedan 2012', 'prob': '0.7913'}, {'label': 'Isuzu Ascender SUV 2008', 'prob': '0.9999'}, {'label': 'Mercedes-Benz E-Class Sedan 2012', 'prob': '0.5472'}, {'label': 'Infiniti G Coupe IPL 2012', 'prob': '0.9938'}, {'label': 'BMW 3 Series Wagon 2012', 'prob': '0.3005'}]\n"
          ],
          "name": "stdout"
        }
      ]
    },
    {
      "cell_type": "code",
      "metadata": {
        "id": "7pGvFc2Ndclu"
      },
      "source": [
        "from console_progressbar import ProgressBar"
      ],
      "execution_count": null,
      "outputs": []
    },
    {
      "cell_type": "code",
      "metadata": {
        "id": "t0bu3DSR2E6k"
      },
      "source": [
        "import time\n",
        "\n",
        "import cv2 as cv\n",
        "import keras.backend as K\n",
        "import numpy as np\n",
        "from console_progressbar import ProgressBar\n",
        "import os\n",
        "from utils import load_model\n",
        "\n",
        "if __name__ == '__main__':\n",
        "    model = load_model()\n",
        "\n",
        "    pb = ProgressBar(total=100, prefix='Predicting test data', suffix='', decimals=3, length=50, fill='=')\n",
        "    num_samples = 8041\n",
        "    start = time.time()\n",
        "    out = open('submission.txt', 'a')\n",
        "    for i in range(num_samples):\n",
        "        filename = os.path.join('data/test', '%05d.jpg' % (i + 1))\n",
        "        bgr_img = cv.imread(filename)\n",
        "        preds = model.predict(bgr_img) \n",
        "        prob = np.max(preds)\n",
        "        class_id = np.argmax(preds)\n",
        "        out.write('{}\\n'.format(str(class_id + 1)))\n",
        "        pb.print_progress_bar((i + 1) * 100 / num_samples)\n",
        "\n",
        "    end = time.time()\n",
        "    seconds = end - start\n",
        "    print('avg fps: {}'.format(str(num_samples / seconds)))\n",
        "\n",
        "    out.close()\n",
        "    K.clear_session()"
      ],
      "execution_count": null,
      "outputs": []
    },
    {
      "cell_type": "code",
      "metadata": {
        "id": "KNsojjr82KdL"
      },
      "source": [
        "from scipy import ndimage\n",
        "import numpy as np\n",
        "import os\n",
        "import cv2\n",
        "\n",
        "def main():\n",
        "    outPath = \"C:\\Miniconda\\envs\\..\"\n",
        "    path = \"C:\\Miniconda\\envs\\out\\..\"\n",
        "    for image_to_rotate in os.listdir(path):\n",
        "        rotated = ndimage.rotate(image_to_rotate, 45)\n",
        "        fullpath = os.path.join(outPath, rotated)\n",
        "\n",
        "  if __name__ == '__main__':\n",
        "     main()"
      ],
      "execution_count": null,
      "outputs": []
    }
  ]
}